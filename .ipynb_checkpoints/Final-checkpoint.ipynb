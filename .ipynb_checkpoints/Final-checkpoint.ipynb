{
 "cells": [
  {
   "cell_type": "code",
   "execution_count": 1,
   "metadata": {},
   "outputs": [],
   "source": [
    "from selenium import webdriver\n",
    "from selenium.webdriver.common.keys import Keys\n",
    "from selenium.webdriver.chrome.options import Options\n",
    "\n",
    "import time\n",
    "import pandas as pd"
   ]
  },
  {
   "cell_type": "code",
   "execution_count": 2,
   "metadata": {},
   "outputs": [
    {
     "name": "stderr",
     "output_type": "stream",
     "text": [
      "C:\\Users\\Tanzim\\Anaconda3\\lib\\site-packages\\ipykernel_launcher.py:4: DeprecationWarning: use options instead of chrome_options\n",
      "  after removing the cwd from sys.path.\n"
     ]
    }
   ],
   "source": [
    "options = Options()\n",
    "options.binary_location = \"C:\\Program Files (x86)\\Google\\Chrome\\Application\\chrome.exe\"\n",
    "\n",
    "driver = webdriver.Chrome(chrome_options = options, executable_path=r'chromedriver.exe')"
   ]
  },
  {
   "cell_type": "code",
   "execution_count": 3,
   "metadata": {},
   "outputs": [],
   "source": [
    "#driver.set_page_load_timeout(10)\n",
    "\n",
    "driver.get(\"https://www.ipmimages.org/search/action.cfm?q=cannabis+sativa+cranshaw\")"
   ]
  },
  {
   "cell_type": "markdown",
   "metadata": {},
   "source": [
    "##### Other ways to find elements\n",
    "\n",
    "- driver.find_element_by_name(\"q\").send_keys(\"Automation step by step\")\n",
    "- driver.find_element_by_name(\"btnK\").send_keys(Keys.ENTER)\n",
    "- driver.find_element_by_name(\"q\").send_keys(Keys.ENTER)\n",
    "\n"
   ]
  },
  {
   "cell_type": "code",
   "execution_count": 4,
   "metadata": {
    "scrolled": true
   },
   "outputs": [],
   "source": [
    "results = driver.find_elements_by_xpath('//div[@class=\"col-xs-12 col-sm-6 col-md-4 text-center\"]')\n",
    "#print(buyers)"
   ]
  },
  {
   "cell_type": "code",
   "execution_count": 5,
   "metadata": {},
   "outputs": [],
   "source": [
    "# Partial link + reference for every individual page\n",
    "partial_link = \"https://www.ipmimages.org/browse/detail.cfm?imgnum=\"\n",
    "\n",
    "# Initialize the empty list where all the data is going to be appended\n",
    "main_list = []\n",
    "\n",
    "# Loops through every result in the search results page. Navigates to every search result page and appends the data to the empty file_list\n",
    "for result in results:\n",
    "    # Initialize empty list that must be appended\n",
    "    file_list = []\n",
    "    \n",
    "    #print(result.text.split(\"\\n\",5)[0:7], \"\\n\\n\")\n",
    "    full_link = partial_link + result.text.split(\"\\n\",8)[0]\n",
    "    driver = webdriver.Chrome(\"chromedriver.exe\")\n",
    "    driver.get(full_link)\n",
    "    \n",
    "    fields = driver.find_elements_by_xpath('//div[@class=\"panel-body\"]')\n",
    "    link = driver.find_elements_by_tag_name('iframe')[0].get_attribute(\"src\")\n",
    "    #print(len(links), links[0].get_attribute(\"src\"))\n",
    "    \n",
    "    for field in fields:\n",
    "    #print(field.text.split(\"\\n\",12)[-1:][0].split(\":\"))\n",
    "        try:\n",
    "            if (field.text.split(\"\\n\",12)[-1:][0].split(\":\")==['Host', '\\nhemp/marijuana (sativa) (Cannabis sativa L)']):\n",
    "                    #print('cool')\n",
    "                    \n",
    "                    file_list.append(link)\n",
    "                    file_list.append(field.text.split(\"\\n\"))\n",
    "                    \n",
    "                    #print(field.text.split(\"\\n\",12))\n",
    "                    #print(file_list)\n",
    "                    main_list.append(file_list)\n",
    "            else:\n",
    "                    pass\n",
    "        except:\n",
    "            print('an exception has occured')\n",
    "\n",
    "            break\n",
    "    #time.sleep(0.25)\n",
    "    driver.close()\n",
    "    \n",
    "\n",
    "    "
   ]
  },
  {
   "cell_type": "code",
   "execution_count": 6,
   "metadata": {},
   "outputs": [],
   "source": [
    "# print(\"main list is \\n\", main_list)"
   ]
  },
  {
   "cell_type": "code",
   "execution_count": 7,
   "metadata": {},
   "outputs": [],
   "source": [
    "import csv\n",
    "\n",
    "with open(\"Metadata_Outputs.csv\", \"w\") as f:\n",
    "    writer = csv.writer(f)\n",
    "    writer.writerows(main_list)"
   ]
  },
  {
   "cell_type": "code",
   "execution_count": 8,
   "metadata": {},
   "outputs": [],
   "source": [
    "import pandas as pd"
   ]
  },
  {
   "cell_type": "code",
   "execution_count": 26,
   "metadata": {},
   "outputs": [
    {
     "data": {
      "text/html": [
       "<div>\n",
       "<style scoped>\n",
       "    .dataframe tbody tr th:only-of-type {\n",
       "        vertical-align: middle;\n",
       "    }\n",
       "\n",
       "    .dataframe tbody tr th {\n",
       "        vertical-align: top;\n",
       "    }\n",
       "\n",
       "    .dataframe thead th {\n",
       "        text-align: right;\n",
       "    }\n",
       "</style>\n",
       "<table border=\"1\" class=\"dataframe\">\n",
       "  <thead>\n",
       "    <tr style=\"text-align: right;\">\n",
       "      <th></th>\n",
       "      <th>0</th>\n",
       "      <th>1</th>\n",
       "    </tr>\n",
       "  </thead>\n",
       "  <tbody>\n",
       "    <tr>\n",
       "      <th>0</th>\n",
       "      <td>https://www.ipmimages.org/image.cfm?imgnum=556...</td>\n",
       "      <td>['Image Number: 5565667', 'cannabis aphid (Pho...</td>\n",
       "    </tr>\n",
       "    <tr>\n",
       "      <th>1</th>\n",
       "      <td>https://www.ipmimages.org/image.cfm?imgnum=556...</td>\n",
       "      <td>['Image Number: 5565669', 'cannabis aphid (Pho...</td>\n",
       "    </tr>\n",
       "    <tr>\n",
       "      <th>2</th>\n",
       "      <td>https://www.ipmimages.org/image.cfm?imgnum=556...</td>\n",
       "      <td>['Image Number: 5565670', 'cannabis aphid (Pho...</td>\n",
       "    </tr>\n",
       "    <tr>\n",
       "      <th>3</th>\n",
       "      <td>https://www.ipmimages.org/image.cfm?imgnum=556...</td>\n",
       "      <td>['Image Number: 5565672', 'cannabis aphid (Pho...</td>\n",
       "    </tr>\n",
       "    <tr>\n",
       "      <th>4</th>\n",
       "      <td>https://www.ipmimages.org/image.cfm?imgnum=556...</td>\n",
       "      <td>['Image Number: 5565673', 'cannabis aphid (Pho...</td>\n",
       "    </tr>\n",
       "  </tbody>\n",
       "</table>\n",
       "</div>"
      ],
      "text/plain": [
       "                                                   0  \\\n",
       "0  https://www.ipmimages.org/image.cfm?imgnum=556...   \n",
       "1  https://www.ipmimages.org/image.cfm?imgnum=556...   \n",
       "2  https://www.ipmimages.org/image.cfm?imgnum=556...   \n",
       "3  https://www.ipmimages.org/image.cfm?imgnum=556...   \n",
       "4  https://www.ipmimages.org/image.cfm?imgnum=556...   \n",
       "\n",
       "                                                   1  \n",
       "0  ['Image Number: 5565667', 'cannabis aphid (Pho...  \n",
       "1  ['Image Number: 5565669', 'cannabis aphid (Pho...  \n",
       "2  ['Image Number: 5565670', 'cannabis aphid (Pho...  \n",
       "3  ['Image Number: 5565672', 'cannabis aphid (Pho...  \n",
       "4  ['Image Number: 5565673', 'cannabis aphid (Pho...  "
      ]
     },
     "execution_count": 26,
     "metadata": {},
     "output_type": "execute_result"
    }
   ],
   "source": [
    "dataframe = pd.read_csv('Metadata_Outputs.csv', header=None, encoding='latin-1')\n",
    "\n",
    "dataframe.head()"
   ]
  },
  {
   "cell_type": "code",
   "execution_count": 27,
   "metadata": {},
   "outputs": [],
   "source": [
    "# initialize the empty lists\n",
    "link = []\n",
    "disease = []\n",
    "\n",
    "# preprocess the dataframe\n",
    "for i in range(len(dataframe)):\n",
    "    link_placeholder = dataframe.iloc[i, 0]\n",
    "    \n",
    "    decoded_item = dataframe.iloc[i, 1][1:-1]\n",
    "    item_value = decoded_item.split(',')\n",
    "    disease_placeholder = item_value[1][2:-1].strip()\n",
    "\n",
    "    # append the information to the list\n",
    "    link.append(link_placeholder)\n",
    "    disease.append(disease_placeholder)\n",
    "   "
   ]
  },
  {
   "cell_type": "code",
   "execution_count": 28,
   "metadata": {},
   "outputs": [],
   "source": [
    "# Create new dataframe df using the new list variables\n",
    "df = pd.DataFrame(list(zip(link, disease)), \n",
    "               columns =['link', 'disease']) "
   ]
  },
  {
   "cell_type": "code",
   "execution_count": 29,
   "metadata": {},
   "outputs": [
    {
     "data": {
      "text/html": [
       "<div>\n",
       "<style scoped>\n",
       "    .dataframe tbody tr th:only-of-type {\n",
       "        vertical-align: middle;\n",
       "    }\n",
       "\n",
       "    .dataframe tbody tr th {\n",
       "        vertical-align: top;\n",
       "    }\n",
       "\n",
       "    .dataframe thead th {\n",
       "        text-align: right;\n",
       "    }\n",
       "</style>\n",
       "<table border=\"1\" class=\"dataframe\">\n",
       "  <thead>\n",
       "    <tr style=\"text-align: right;\">\n",
       "      <th></th>\n",
       "      <th>link</th>\n",
       "      <th>disease</th>\n",
       "    </tr>\n",
       "  </thead>\n",
       "  <tbody>\n",
       "    <tr>\n",
       "      <th>0</th>\n",
       "      <td>https://www.ipmimages.org/image.cfm?imgnum=556...</td>\n",
       "      <td>cannabis aphid (Phorodon cannabis) (Passerini)</td>\n",
       "    </tr>\n",
       "    <tr>\n",
       "      <th>1</th>\n",
       "      <td>https://www.ipmimages.org/image.cfm?imgnum=556...</td>\n",
       "      <td>cannabis aphid (Phorodon cannabis) (Passerini)</td>\n",
       "    </tr>\n",
       "    <tr>\n",
       "      <th>2</th>\n",
       "      <td>https://www.ipmimages.org/image.cfm?imgnum=556...</td>\n",
       "      <td>cannabis aphid (Phorodon cannabis) (Passerini)</td>\n",
       "    </tr>\n",
       "    <tr>\n",
       "      <th>3</th>\n",
       "      <td>https://www.ipmimages.org/image.cfm?imgnum=556...</td>\n",
       "      <td>cannabis aphid (Phorodon cannabis) (Passerini)</td>\n",
       "    </tr>\n",
       "    <tr>\n",
       "      <th>4</th>\n",
       "      <td>https://www.ipmimages.org/image.cfm?imgnum=556...</td>\n",
       "      <td>cannabis aphid (Phorodon cannabis) (Passerini)</td>\n",
       "    </tr>\n",
       "  </tbody>\n",
       "</table>\n",
       "</div>"
      ],
      "text/plain": [
       "                                                link  \\\n",
       "0  https://www.ipmimages.org/image.cfm?imgnum=556...   \n",
       "1  https://www.ipmimages.org/image.cfm?imgnum=556...   \n",
       "2  https://www.ipmimages.org/image.cfm?imgnum=556...   \n",
       "3  https://www.ipmimages.org/image.cfm?imgnum=556...   \n",
       "4  https://www.ipmimages.org/image.cfm?imgnum=556...   \n",
       "\n",
       "                                          disease  \n",
       "0  cannabis aphid (Phorodon cannabis) (Passerini)  \n",
       "1  cannabis aphid (Phorodon cannabis) (Passerini)  \n",
       "2  cannabis aphid (Phorodon cannabis) (Passerini)  \n",
       "3  cannabis aphid (Phorodon cannabis) (Passerini)  \n",
       "4  cannabis aphid (Phorodon cannabis) (Passerini)  "
      ]
     },
     "execution_count": 29,
     "metadata": {},
     "output_type": "execute_result"
    }
   ],
   "source": [
    "df.head()"
   ]
  },
  {
   "cell_type": "code",
   "execution_count": 30,
   "metadata": {},
   "outputs": [
    {
     "data": {
      "text/html": [
       "<div>\n",
       "<style scoped>\n",
       "    .dataframe tbody tr th:only-of-type {\n",
       "        vertical-align: middle;\n",
       "    }\n",
       "\n",
       "    .dataframe tbody tr th {\n",
       "        vertical-align: top;\n",
       "    }\n",
       "\n",
       "    .dataframe thead th {\n",
       "        text-align: right;\n",
       "    }\n",
       "</style>\n",
       "<table border=\"1\" class=\"dataframe\">\n",
       "  <thead>\n",
       "    <tr style=\"text-align: right;\">\n",
       "      <th></th>\n",
       "      <th>link</th>\n",
       "      <th>disease</th>\n",
       "      <th>Img_url</th>\n",
       "      <th>Name</th>\n",
       "    </tr>\n",
       "  </thead>\n",
       "  <tbody>\n",
       "    <tr>\n",
       "      <th>0</th>\n",
       "      <td>https://www.ipmimages.org/image.cfm?imgnum=556...</td>\n",
       "      <td>cannabis aphid (Phorodon cannabis) (Passerini)</td>\n",
       "      <td>None</td>\n",
       "      <td>None</td>\n",
       "    </tr>\n",
       "    <tr>\n",
       "      <th>1</th>\n",
       "      <td>https://www.ipmimages.org/image.cfm?imgnum=556...</td>\n",
       "      <td>cannabis aphid (Phorodon cannabis) (Passerini)</td>\n",
       "      <td>None</td>\n",
       "      <td>None</td>\n",
       "    </tr>\n",
       "    <tr>\n",
       "      <th>2</th>\n",
       "      <td>https://www.ipmimages.org/image.cfm?imgnum=556...</td>\n",
       "      <td>cannabis aphid (Phorodon cannabis) (Passerini)</td>\n",
       "      <td>None</td>\n",
       "      <td>None</td>\n",
       "    </tr>\n",
       "    <tr>\n",
       "      <th>3</th>\n",
       "      <td>https://www.ipmimages.org/image.cfm?imgnum=556...</td>\n",
       "      <td>cannabis aphid (Phorodon cannabis) (Passerini)</td>\n",
       "      <td>None</td>\n",
       "      <td>None</td>\n",
       "    </tr>\n",
       "    <tr>\n",
       "      <th>4</th>\n",
       "      <td>https://www.ipmimages.org/image.cfm?imgnum=556...</td>\n",
       "      <td>cannabis aphid (Phorodon cannabis) (Passerini)</td>\n",
       "      <td>None</td>\n",
       "      <td>None</td>\n",
       "    </tr>\n",
       "  </tbody>\n",
       "</table>\n",
       "</div>"
      ],
      "text/plain": [
       "                                                link  \\\n",
       "0  https://www.ipmimages.org/image.cfm?imgnum=556...   \n",
       "1  https://www.ipmimages.org/image.cfm?imgnum=556...   \n",
       "2  https://www.ipmimages.org/image.cfm?imgnum=556...   \n",
       "3  https://www.ipmimages.org/image.cfm?imgnum=556...   \n",
       "4  https://www.ipmimages.org/image.cfm?imgnum=556...   \n",
       "\n",
       "                                          disease Img_url  Name  \n",
       "0  cannabis aphid (Phorodon cannabis) (Passerini)    None  None  \n",
       "1  cannabis aphid (Phorodon cannabis) (Passerini)    None  None  \n",
       "2  cannabis aphid (Phorodon cannabis) (Passerini)    None  None  \n",
       "3  cannabis aphid (Phorodon cannabis) (Passerini)    None  None  \n",
       "4  cannabis aphid (Phorodon cannabis) (Passerini)    None  None  "
      ]
     },
     "execution_count": 30,
     "metadata": {},
     "output_type": "execute_result"
    }
   ],
   "source": [
    "df['Img_url'] = None\n",
    "df['Name'] = None\n",
    "\n",
    "df.head()"
   ]
  },
  {
   "cell_type": "code",
   "execution_count": null,
   "metadata": {},
   "outputs": [],
   "source": [
    "for index in range(len(df)):\n",
    "    link = df.iloc[index, 0]\n",
    "    \n",
    "    driver = webdriver.Chrome(\"chromedriver.exe\")\n",
    "    driver.get(link)\n",
    "    url = driver.find_element_by_id(\"mainimage\").get_attribute(\"src\")\n",
    "    \n",
    "    name = str(index) + \". \" + str(df.iloc[index, 1])\n",
    "    \n",
    "    df.iloc[index, 2] = url\n",
    "    df.iloc[index, 3] = name\n",
    "    \n",
    "    \n",
    "    driver.close()\n",
    "    "
   ]
  },
  {
   "cell_type": "code",
   "execution_count": 20,
   "metadata": {},
   "outputs": [
    {
     "data": {
      "text/html": [
       "<div>\n",
       "<style scoped>\n",
       "    .dataframe tbody tr th:only-of-type {\n",
       "        vertical-align: middle;\n",
       "    }\n",
       "\n",
       "    .dataframe tbody tr th {\n",
       "        vertical-align: top;\n",
       "    }\n",
       "\n",
       "    .dataframe thead th {\n",
       "        text-align: right;\n",
       "    }\n",
       "</style>\n",
       "<table border=\"1\" class=\"dataframe\">\n",
       "  <thead>\n",
       "    <tr style=\"text-align: right;\">\n",
       "      <th></th>\n",
       "      <th>disease</th>\n",
       "      <th>Img_url</th>\n",
       "    </tr>\n",
       "  </thead>\n",
       "  <tbody>\n",
       "    <tr>\n",
       "      <th>0</th>\n",
       "      <td>cannabis aphid (Phorodon cannabis) (Passerini)</td>\n",
       "      <td>0. cannabis aphid (Phorodon cannabis) (Passerini)</td>\n",
       "    </tr>\n",
       "    <tr>\n",
       "      <th>1</th>\n",
       "      <td>cannabis aphid (Phorodon cannabis) (Passerini)</td>\n",
       "      <td>1. cannabis aphid (Phorodon cannabis) (Passerini)</td>\n",
       "    </tr>\n",
       "    <tr>\n",
       "      <th>2</th>\n",
       "      <td>cannabis aphid (Phorodon cannabis) (Passerini)</td>\n",
       "      <td>2. cannabis aphid (Phorodon cannabis) (Passerini)</td>\n",
       "    </tr>\n",
       "    <tr>\n",
       "      <th>3</th>\n",
       "      <td>cannabis aphid (Phorodon cannabis) (Passerini)</td>\n",
       "      <td>3. cannabis aphid (Phorodon cannabis) (Passerini)</td>\n",
       "    </tr>\n",
       "    <tr>\n",
       "      <th>4</th>\n",
       "      <td>cannabis aphid (Phorodon cannabis) (Passerini)</td>\n",
       "      <td>4. cannabis aphid (Phorodon cannabis) (Passerini)</td>\n",
       "    </tr>\n",
       "  </tbody>\n",
       "</table>\n",
       "</div>"
      ],
      "text/plain": [
       "                                          disease  \\\n",
       "0  cannabis aphid (Phorodon cannabis) (Passerini)   \n",
       "1  cannabis aphid (Phorodon cannabis) (Passerini)   \n",
       "2  cannabis aphid (Phorodon cannabis) (Passerini)   \n",
       "3  cannabis aphid (Phorodon cannabis) (Passerini)   \n",
       "4  cannabis aphid (Phorodon cannabis) (Passerini)   \n",
       "\n",
       "                                             Img_url  \n",
       "0  0. cannabis aphid (Phorodon cannabis) (Passerini)  \n",
       "1  1. cannabis aphid (Phorodon cannabis) (Passerini)  \n",
       "2  2. cannabis aphid (Phorodon cannabis) (Passerini)  \n",
       "3  3. cannabis aphid (Phorodon cannabis) (Passerini)  \n",
       "4  4. cannabis aphid (Phorodon cannabis) (Passerini)  "
      ]
     },
     "execution_count": 20,
     "metadata": {},
     "output_type": "execute_result"
    }
   ],
   "source": [
    "df = df.drop(columns=['link', 'disease'])\n",
    "\n",
    "df.head()"
   ]
  },
  {
   "cell_type": "code",
   "execution_count": 23,
   "metadata": {},
   "outputs": [],
   "source": [
    "df.to_csv('Final_List.csv')"
   ]
  },
  {
   "cell_type": "code",
   "execution_count": null,
   "metadata": {},
   "outputs": [],
   "source": []
  }
 ],
 "metadata": {
  "kernelspec": {
   "display_name": "Python 3",
   "language": "python",
   "name": "python3"
  },
  "language_info": {
   "codemirror_mode": {
    "name": "ipython",
    "version": 3
   },
   "file_extension": ".py",
   "mimetype": "text/x-python",
   "name": "python",
   "nbconvert_exporter": "python",
   "pygments_lexer": "ipython3",
   "version": "3.6.4"
  }
 },
 "nbformat": 4,
 "nbformat_minor": 2
}
