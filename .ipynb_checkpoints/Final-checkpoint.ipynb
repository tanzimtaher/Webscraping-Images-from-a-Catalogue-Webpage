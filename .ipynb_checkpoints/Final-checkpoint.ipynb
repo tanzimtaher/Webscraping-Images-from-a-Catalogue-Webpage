{
 "cells": [
  {
   "cell_type": "code",
   "execution_count": 3,
   "metadata": {},
   "outputs": [],
   "source": [
    "from selenium import webdriver\n",
    "from selenium.webdriver.common.keys import Keys\n",
    "from selenium.webdriver.chrome.options import Options\n",
    "\n",
    "import time\n",
    "import pandas as pd"
   ]
  },
  {
   "cell_type": "code",
   "execution_count": 5,
   "metadata": {},
   "outputs": [
    {
     "name": "stderr",
     "output_type": "stream",
     "text": [
      "C:\\Users\\Tanzim\\Anaconda3\\lib\\site-packages\\ipykernel_launcher.py:4: DeprecationWarning: use options instead of chrome_options\n",
      "  after removing the cwd from sys.path.\n"
     ]
    }
   ],
   "source": [
    "options = Options()\n",
    "options.binary_location = \"C:\\Program Files (x86)\\Google\\Chrome\\Application\\chrome.exe\"\n",
    "\n",
    "driver = webdriver.Chrome(chrome_options = options, executable_path=r'chromedriver.exe')"
   ]
  },
  {
   "cell_type": "code",
   "execution_count": 6,
   "metadata": {},
   "outputs": [],
   "source": [
    "#driver.set_page_load_timeout(10)\n",
    "\n",
    "driver.get(\"https://www.ipmimages.org/search/action.cfm?q=cannabis+sativa+cranshaw\")"
   ]
  },
  {
   "cell_type": "markdown",
   "metadata": {},
   "source": [
    "#driver.find_element_by_name(\"q\").send_keys(\"Automation step by step\")\n",
    "\n",
    "#driver.find_element_by_name(\"btnK\").send_keys(Keys.ENTER)\n",
    "#driver.find_element_by_name(\"q\").send_keys(Keys.ENTER)\n",
    "\n",
    "#time.sleep(4)"
   ]
  },
  {
   "cell_type": "code",
   "execution_count": 7,
   "metadata": {
    "scrolled": true
   },
   "outputs": [],
   "source": [
    "results = driver.find_elements_by_xpath('//div[@class=\"col-xs-12 col-sm-6 col-md-4 text-center\"]')\n",
    "#print(buyers)"
   ]
  },
  {
   "cell_type": "code",
   "execution_count": null,
   "metadata": {},
   "outputs": [],
   "source": [
    "# Partial link + reference for every individual page\n",
    "partial_link = \"https://www.ipmimages.org/browse/detail.cfm?imgnum=\"\n",
    "\n",
    "# Initialize the empty list where all the data is going to be appended\n",
    "main_list = []\n",
    "\n",
    "# Loops through every result in the search results page. Navigates to every search result page and appends the data to the empty file_list\n",
    "for result in results:\n",
    "    # Initialize empty list that must be appended\n",
    "    file_list = []\n",
    "    \n",
    "    #print(result.text.split(\"\\n\",5)[0:7], \"\\n\\n\")\n",
    "    full_link = partial_link + result.text.split(\"\\n\",8)[0]\n",
    "    driver = webdriver.Chrome(\"chromedriver.exe\")\n",
    "    driver.get(full_link)\n",
    "    \n",
    "    fields = driver.find_elements_by_xpath('//div[@class=\"panel-body\"]')\n",
    "    link = driver.find_elements_by_tag_name('iframe')[0].get_attribute(\"src\")\n",
    "    #print(len(links), links[0].get_attribute(\"src\"))\n",
    "    \n",
    "    for field in fields:\n",
    "    #print(field.text.split(\"\\n\",12)[-1:][0].split(\":\"))\n",
    "        try:\n",
    "            if (field.text.split(\"\\n\",12)[-1:][0].split(\":\")==['Host', '\\nhemp/marijuana (sativa) (Cannabis sativa L)']):\n",
    "                    #print('cool')\n",
    "                    \n",
    "                    file_list.append(link)\n",
    "                    file_list.append(field.text.split(\"\\n\"))\n",
    "                    \n",
    "                    #print(field.text.split(\"\\n\",12))\n",
    "                    #print(file_list)\n",
    "                    main_list.append(file_list)\n",
    "            else:\n",
    "                    pass\n",
    "        except:\n",
    "            print('an exception has occured')\n",
    "\n",
    "            break\n",
    "    time.sleep(0.25)\n",
    "    driver.close()\n",
    "    \n",
    "\n",
    "    \n",
    "print(\"main list is \\n\", main_list)"
   ]
  },
  {
   "cell_type": "code",
   "execution_count": 6,
   "metadata": {},
   "outputs": [],
   "source": [
    "import csv\n",
    "\n",
    "with open(\"Metadata_Outputs.csv\", \"w\") as f:\n",
    "    writer = csv.writer(f)\n",
    "    writer.writerows(main_list)"
   ]
  },
  {
   "cell_type": "code",
   "execution_count": null,
   "metadata": {},
   "outputs": [],
   "source": []
  }
 ],
 "metadata": {
  "kernelspec": {
   "display_name": "Python 3",
   "language": "python",
   "name": "python3"
  },
  "language_info": {
   "codemirror_mode": {
    "name": "ipython",
    "version": 3
   },
   "file_extension": ".py",
   "mimetype": "text/x-python",
   "name": "python",
   "nbconvert_exporter": "python",
   "pygments_lexer": "ipython3",
   "version": "3.6.4"
  }
 },
 "nbformat": 4,
 "nbformat_minor": 2
}
