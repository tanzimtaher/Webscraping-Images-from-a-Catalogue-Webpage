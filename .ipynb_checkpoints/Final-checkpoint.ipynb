{
 "cells": [
  {
   "cell_type": "code",
   "execution_count": 3,
   "metadata": {},
   "outputs": [],
   "source": [
    "from selenium import webdriver\n",
    "from selenium.webdriver.common.keys import Keys\n",
    "from selenium.webdriver.chrome.options import Options\n",
    "\n",
    "import time\n",
    "import pandas as pd"
   ]
  },
  {
   "cell_type": "code",
   "execution_count": 5,
   "metadata": {},
   "outputs": [
    {
     "name": "stderr",
     "output_type": "stream",
     "text": [
      "C:\\Users\\Tanzim\\Anaconda3\\lib\\site-packages\\ipykernel_launcher.py:4: DeprecationWarning: use options instead of chrome_options\n",
      "  after removing the cwd from sys.path.\n"
     ]
    }
   ],
   "source": [
    "options = Options()\n",
    "options.binary_location = \"C:\\Program Files (x86)\\Google\\Chrome\\Application\\chrome.exe\"\n",
    "\n",
    "driver = webdriver.Chrome(chrome_options = options, executable_path=r'chromedriver.exe')"
   ]
  },
  {
   "cell_type": "code",
   "execution_count": 6,
   "metadata": {},
   "outputs": [],
   "source": [
    "#driver.set_page_load_timeout(10)\n",
    "\n",
    "driver.get(\"https://www.ipmimages.org/search/action.cfm?q=cannabis+sativa+cranshaw\")"
   ]
  },
  {
   "cell_type": "markdown",
   "metadata": {},
   "source": [
    "#driver.find_element_by_name(\"q\").send_keys(\"Automation step by step\")\n",
    "\n",
    "#driver.find_element_by_name(\"btnK\").send_keys(Keys.ENTER)\n",
    "#driver.find_element_by_name(\"q\").send_keys(Keys.ENTER)\n",
    "\n",
    "#time.sleep(4)"
   ]
  },
  {
   "cell_type": "code",
   "execution_count": 7,
   "metadata": {
    "scrolled": true
   },
   "outputs": [],
   "source": [
    "results = driver.find_elements_by_xpath('//div[@class=\"col-xs-12 col-sm-6 col-md-4 text-center\"]')\n",
    "#print(buyers)"
   ]
  },
  {
   "cell_type": "code",
   "execution_count": null,
   "metadata": {},
   "outputs": [],
   "source": [
    "# Partial link + reference for every individual page\n",
    "partial_link = \"https://www.ipmimages.org/browse/detail.cfm?imgnum=\"\n",
    "\n",
    "# Initialize the empty list where all the data is going to be appended\n",
    "main_list = []\n",
    "\n",
    "# Loops through every result in the search results page. Navigates to every search result page and appends the data to the empty file_list\n",
    "for result in results:\n",
    "    # Initialize empty list that must be appended\n",
    "    file_list = []\n",
    "    \n",
    "    #print(result.text.split(\"\\n\",5)[0:7], \"\\n\\n\")\n",
    "    full_link = partial_link + result.text.split(\"\\n\",8)[0]\n",
    "    driver = webdriver.Chrome(\"chromedriver.exe\")\n",
    "    driver.get(full_link)\n",
    "    \n",
    "    fields = driver.find_elements_by_xpath('//div[@class=\"panel-body\"]')\n",
    "    link = driver.find_elements_by_tag_name('iframe')[0].get_attribute(\"src\")\n",
    "    #print(len(links), links[0].get_attribute(\"src\"))\n",
    "    \n",
    "    for field in fields:\n",
    "    #print(field.text.split(\"\\n\",12)[-1:][0].split(\":\"))\n",
    "        try:\n",
    "            if (field.text.split(\"\\n\",12)[-1:][0].split(\":\")==['Host', '\\nhemp/marijuana (sativa) (Cannabis sativa L)']):\n",
    "                    #print('cool')\n",
    "                    \n",
    "                    file_list.append(link)\n",
    "                    file_list.append(field.text.split(\"\\n\"))\n",
    "                    \n",
    "                    #print(field.text.split(\"\\n\",12))\n",
    "                    #print(file_list)\n",
    "                    main_list.append(file_list)\n",
    "            else:\n",
    "                    pass\n",
    "        except:\n",
    "            print('an exception has occured')\n",
    "\n",
    "            break\n",
    "    time.sleep(0.25)\n",
    "    driver.close()\n",
    "    \n",
    "\n",
    "    "
   ]
  },
  {
   "cell_type": "code",
   "execution_count": 9,
   "metadata": {},
   "outputs": [
    {
     "name": "stdout",
     "output_type": "stream",
     "text": [
      "main list is \n",
      " [['https://www.ipmimages.org/image.cfm?imgnum=5565669', ['Image Number: 5565669', 'cannabis aphid (Phorodon cannabis) (Passerini)', 'Photographer:', 'Whitney Cranshaw', 'Organization:', 'Colorado State University', 'Descriptor:', 'Nymph(s)', 'Description:', 'Cannabis aphid killed by fungal pathogen', 'Image type:', 'Field', 'Host:', 'hemp/marijuana (sativa) (Cannabis sativa L)']], ['https://www.ipmimages.org/image.cfm?imgnum=5565672', ['Image Number: 5565672', 'cannabis aphid (Phorodon cannabis) (Passerini)', 'Photographer:', 'Whitney Cranshaw', 'Organization:', 'Colorado State University', 'Descriptor:', 'Biological Control', 'Description:', 'Winged adult cannabis aphid, parasitized by a braconid wasp.  An \"aphid mummy\"', 'Image type:', 'Field', 'Host:', 'hemp/marijuana (sativa) (Cannabis sativa L)']], ['https://www.ipmimages.org/image.cfm?imgnum=5565667', ['Image Number: 5565667', 'cannabis aphid (Phorodon cannabis) (Passerini)', 'Photographer:', 'Whitney Cranshaw', 'Organization:', 'Colorado State University', 'Descriptor:', 'Indicator(s)', 'Description:', 'Cast skins of cannabis aphid', 'Image type:', 'Field', 'Host:', 'hemp/marijuana (sativa) (Cannabis sativa L)']], ['https://www.ipmimages.org/image.cfm?imgnum=5565670', ['Image Number: 5565670', 'cannabis aphid (Phorodon cannabis) (Passerini)', 'Photographer:', 'Whitney Cranshaw', 'Organization:', 'Colorado State University', 'Descriptor:', 'Biological Control', 'Description:', 'Cannabis aphid mummy, killed by a braconid wasp', 'Image type:', 'Field', 'Host:', 'hemp/marijuana (sativa) (Cannabis sativa L)']], ['https://www.ipmimages.org/image.cfm?imgnum=5565673', ['Image Number: 5565673', 'cannabis aphid (Phorodon cannabis) (Passerini)', 'Photographer:', 'Whitney Cranshaw', 'Organization:', 'Colorado State University', 'Descriptor:', 'Biological Control', 'Description:', 'Cannabis aphid mummy with exit hole from braconid parasitoid.', 'Image type:', 'Field', 'Host:', 'hemp/marijuana (sativa) (Cannabis sativa L)']], ['https://www.ipmimages.org/image.cfm?imgnum=5556184', ['Image Number: 5556184', 'cannabis aphid (Phorodon cannabis) (Passerini)', 'Photographer:', 'Whitney Cranshaw', 'Organization:', 'Colorado State University', 'Descriptor:', 'Multiple Life Stages', 'Description:', 'Mixed life stages on hemp foliage.', 'Image type:', 'Field', 'Host:', 'hemp/marijuana (sativa) (Cannabis sativa L)']], ['https://www.ipmimages.org/image.cfm?imgnum=5556185', ['Image Number: 5556185', 'cannabis aphid (Phorodon cannabis) (Passerini)', 'Photographer:', 'Whitney Cranshaw', 'Organization:', 'Colorado State University', 'Descriptor:', 'Multiple Life Stages', 'Description:', 'Mixed life stages on hemp foliage.', 'Image type:', 'Field', 'Host:', 'hemp/marijuana (sativa) (Cannabis sativa L)']], ['https://www.ipmimages.org/image.cfm?imgnum=5556186', ['Image Number: 5556186', 'cannabis aphid (Phorodon cannabis) (Passerini)', 'Photographer:', 'Whitney Cranshaw', 'Organization:', 'Colorado State University', 'Descriptor:', 'Multiple Life Stages', 'Description:', 'Alate adult and nymph.', 'Image type:', 'Field', 'Host:', 'hemp/marijuana (sativa) (Cannabis sativa L)']], ['https://www.ipmimages.org/image.cfm?imgnum=5556187', ['Image Number: 5556187', 'cannabis aphid (Phorodon cannabis) (Passerini)', 'Photographer:', 'Whitney Cranshaw', 'Organization:', 'Colorado State University', 'Descriptor:', 'Multiple Life Stages', 'Description:', 'Apterous adults and cast skins.', 'Image type:', 'Field', 'Host:', 'hemp/marijuana (sativa) (Cannabis sativa L)']], ['https://www.ipmimages.org/image.cfm?imgnum=5556188', ['Image Number: 5556188', 'cannabis aphid (Phorodon cannabis) (Passerini)', 'Photographer:', 'Whitney Cranshaw', 'Organization:', 'Colorado State University', 'Descriptor:', 'Multiple Life Stages', 'Description:', 'Apterous adults and nymphs.', 'Image type:', 'Field', 'Host:', 'hemp/marijuana (sativa) (Cannabis sativa L)']], ['https://www.ipmimages.org/image.cfm?imgnum=5556189', ['Image Number: 5556189', 'cannabis aphid (Phorodon cannabis) (Passerini)', 'Photographer:', 'Whitney Cranshaw', 'Organization:', 'Colorado State University', 'Descriptor:', 'Multiple Life Stages', 'Description:', 'Nymphs', 'Image type:', 'Field', 'Host:', 'hemp/marijuana (sativa) (Cannabis sativa L)']], ['https://www.ipmimages.org/image.cfm?imgnum=5556190', ['Image Number: 5556190', 'cannabis aphid (Phorodon cannabis) (Passerini)', 'Photographer:', 'Whitney Cranshaw', 'Organization:', 'Colorado State University', 'Descriptor:', 'Multiple Life Stages', 'Description:', 'Apterous adult', 'Image type:', 'Field', 'Host:', 'hemp/marijuana (sativa) (Cannabis sativa L)']], ['https://www.ipmimages.org/image.cfm?imgnum=5565652', ['Image Number: 5565652', 'cannabis aphid (Phorodon cannabis) (Passerini)', 'Photographer:', 'Whitney Cranshaw', 'Organization:', 'Colorado State University', 'Descriptor:', 'Adult(s)', 'Description:', 'Wingless adult.', 'Image type:', 'Field', 'Host:', 'hemp/marijuana (sativa) (Cannabis sativa L)']], ['https://www.ipmimages.org/image.cfm?imgnum=5565653', ['Image Number: 5565653', 'cannabis aphid (Phorodon cannabis) (Passerini)', 'Photographer:', 'Whitney Cranshaw', 'Organization:', 'Colorado State University', 'Descriptor:', 'Multiple Life Stages', 'Description:', 'Adult and nymphs, wingless forms', 'Image type:', 'Field', 'Host:', 'hemp/marijuana (sativa) (Cannabis sativa L)']], ['https://www.ipmimages.org/image.cfm?imgnum=5565654', ['Image Number: 5565654', 'cannabis aphid (Phorodon cannabis) (Passerini)', 'Photographer:', 'Whitney Cranshaw', 'Organization:', 'Colorado State University', 'Descriptor:', 'Multiple Life Stages', 'Description:', 'Mixed life stages on hemp.  Photograph taken September 11, 2017', 'Image type:', 'Field', 'Host:', 'hemp/marijuana (sativa) (Cannabis sativa L)']], ['https://www.ipmimages.org/image.cfm?imgnum=5565655', ['Image Number: 5565655', 'cannabis aphid (Phorodon cannabis) (Passerini)', 'Photographer:', 'Whitney Cranshaw', 'Organization:', 'Colorado State University', 'Descriptor:', 'Multiple Life Stages', 'Description:', 'Heavy infestation with mixed life stages on hemp.  Photograph taken September 11, 2017', 'Image type:', 'Field', 'Host:', 'hemp/marijuana (sativa) (Cannabis sativa L)']], ['https://www.ipmimages.org/image.cfm?imgnum=5565657', ['Image Number: 5565657', 'cannabis aphid (Phorodon cannabis) (Passerini)', 'Photographer:', 'Whitney Cranshaw', 'Organization:', 'Colorado State University', 'Descriptor:', 'Multiple Life Stages', 'Description:', 'Recent winged form colonizers and newly produced nymphs.  Photograph taken September 1', 'Image type:', 'Field', 'Host:', 'hemp/marijuana (sativa) (Cannabis sativa L)']], ['https://www.ipmimages.org/image.cfm?imgnum=5565658', ['Image Number: 5565658', 'cannabis aphid (Phorodon cannabis) (Passerini)', 'Photographer:', 'Whitney Cranshaw', 'Organization:', 'Colorado State University', 'Descriptor:', 'Multiple Life Stages', 'Description:', 'Heavy infestation early in the season (June 29) ', 'Image type:', 'Field', 'Host:', 'hemp/marijuana (sativa) (Cannabis sativa L)']], ['https://www.ipmimages.org/image.cfm?imgnum=5565659', ['Image Number: 5565659', 'cannabis aphid (Phorodon cannabis) (Passerini)', 'Photographer:', 'Whitney Cranshaw', 'Organization:', 'Colorado State University', 'Descriptor:', 'Multiple Life Stages', 'Description:', 'Mixed stages on stem.  Photograph taken August 31. 2017', 'Image type:', 'Field', 'Host:', 'hemp/marijuana (sativa) (Cannabis sativa L)']], ['https://www.ipmimages.org/image.cfm?imgnum=5565660', ['Image Number: 5565660', 'cannabis aphid (Phorodon cannabis) (Passerini)', 'Photographer:', 'Whitney Cranshaw', 'Organization:', 'Colorado State University', 'Descriptor:', 'Nymph(s)', 'Description:', 'Late stage nymph with wing pads', 'Image type:', 'Field', 'Host:', 'hemp/marijuana (sativa) (Cannabis sativa L)']], ['https://www.ipmimages.org/image.cfm?imgnum=5565661', ['Image Number: 5565661', 'cannabis aphid (Phorodon cannabis) (Passerini)', 'Photographer:', 'Whitney Cranshaw', 'Organization:', 'Colorado State University', 'Descriptor:', 'Adult(s)', 'Description:', 'Winged form female', 'Image type:', 'Field', 'Host:', 'hemp/marijuana (sativa) (Cannabis sativa L)']], ['https://www.ipmimages.org/image.cfm?imgnum=5565662', ['Image Number: 5565662', 'cannabis aphid (Phorodon cannabis) (Passerini)', 'Photographer:', 'Whitney Cranshaw', 'Organization:', 'Colorado State University', 'Descriptor:', 'Adult(s)', 'Description:', 'Winged form female', 'Image type:', 'Field', 'Host:', 'hemp/marijuana (sativa) (Cannabis sativa L)']], ['https://www.ipmimages.org/image.cfm?imgnum=5565663', ['Image Number: 5565663', 'cannabis aphid (Phorodon cannabis) (Passerini)', 'Photographer:', 'Whitney Cranshaw', 'Organization:', 'Colorado State University', 'Descriptor:', 'Adult(s)', 'Description:', 'Winged form.  Photograph taken August 31, 2017', 'Image type:', 'Field', 'Host:', 'hemp/marijuana (sativa) (Cannabis sativa L)']], ['https://www.ipmimages.org/image.cfm?imgnum=5565664', ['Image Number: 5565664', 'cannabis aphid (Phorodon cannabis) (Passerini)', 'Photographer:', 'Whitney Cranshaw', 'Organization:', 'Colorado State University', 'Descriptor:', 'Multiple Life Stages', 'Description:', 'Mixed life stages on hemp, with syrphid egg.  Photograph taken September 11, 2017', 'Image type:', 'Field', 'Host:', 'hemp/marijuana (sativa) (Cannabis sativa L)']], ['https://www.ipmimages.org/image.cfm?imgnum=5565665', ['Image Number: 5565665', 'cannabis aphid (Phorodon cannabis) (Passerini)', 'Photographer:', 'Whitney Cranshaw', 'Organization:', 'Colorado State University', 'Descriptor:', 'Nymph(s)', 'Description:', 'Newly molted nymph.  The discarded skin is to the left', 'Image type:', 'Field', 'Host:', 'hemp/marijuana (sativa) (Cannabis sativa L)']], ['https://www.ipmimages.org/image.cfm?imgnum=5565666', ['Image Number: 5565666', 'cannabis aphid (Phorodon cannabis) (Passerini)', 'Photographer:', 'Whitney Cranshaw', 'Organization:', 'Colorado State University', 'Descriptor:', 'Indicator(s)', 'Description:', 'Plant with cast skins and honeydew', 'Image type:', 'Field', 'Host:', 'hemp/marijuana (sativa) (Cannabis sativa L)']], ['https://www.ipmimages.org/image.cfm?imgnum=5565668', ['Image Number: 5565668', 'cannabis aphid (Phorodon cannabis) (Passerini)', 'Photographer:', 'Whitney Cranshaw', 'Organization:', 'Colorado State University', 'Descriptor:', 'Nymph(s)', 'Description:', 'Late stage nymph with wing pads', 'Image type:', 'Field', 'Host:', 'hemp/marijuana (sativa) (Cannabis sativa L)']]]\n"
     ]
    }
   ],
   "source": [
    "print(\"main list is \\n\", main_list)"
   ]
  },
  {
   "cell_type": "code",
   "execution_count": 10,
   "metadata": {},
   "outputs": [],
   "source": [
    "import csv\n",
    "\n",
    "with open(\"Metadata_Outputs.csv\", \"w\") as f:\n",
    "    writer = csv.writer(f)\n",
    "    writer.writerows(main_list)"
   ]
  },
  {
   "cell_type": "code",
   "execution_count": 11,
   "metadata": {},
   "outputs": [],
   "source": [
    "import pandas as pd"
   ]
  },
  {
   "cell_type": "code",
   "execution_count": 19,
   "metadata": {},
   "outputs": [
    {
     "data": {
      "text/html": [
       "<div>\n",
       "<style scoped>\n",
       "    .dataframe tbody tr th:only-of-type {\n",
       "        vertical-align: middle;\n",
       "    }\n",
       "\n",
       "    .dataframe tbody tr th {\n",
       "        vertical-align: top;\n",
       "    }\n",
       "\n",
       "    .dataframe thead th {\n",
       "        text-align: right;\n",
       "    }\n",
       "</style>\n",
       "<table border=\"1\" class=\"dataframe\">\n",
       "  <thead>\n",
       "    <tr style=\"text-align: right;\">\n",
       "      <th></th>\n",
       "      <th>0</th>\n",
       "      <th>1</th>\n",
       "    </tr>\n",
       "  </thead>\n",
       "  <tbody>\n",
       "    <tr>\n",
       "      <th>0</th>\n",
       "      <td>https://www.ipmimages.org/image.cfm?imgnum=556...</td>\n",
       "      <td>['Image Number: 5565669', 'cannabis aphid (Pho...</td>\n",
       "    </tr>\n",
       "    <tr>\n",
       "      <th>1</th>\n",
       "      <td>https://www.ipmimages.org/image.cfm?imgnum=556...</td>\n",
       "      <td>['Image Number: 5565672', 'cannabis aphid (Pho...</td>\n",
       "    </tr>\n",
       "    <tr>\n",
       "      <th>2</th>\n",
       "      <td>https://www.ipmimages.org/image.cfm?imgnum=556...</td>\n",
       "      <td>['Image Number: 5565667', 'cannabis aphid (Pho...</td>\n",
       "    </tr>\n",
       "    <tr>\n",
       "      <th>3</th>\n",
       "      <td>https://www.ipmimages.org/image.cfm?imgnum=556...</td>\n",
       "      <td>['Image Number: 5565670', 'cannabis aphid (Pho...</td>\n",
       "    </tr>\n",
       "    <tr>\n",
       "      <th>4</th>\n",
       "      <td>https://www.ipmimages.org/image.cfm?imgnum=556...</td>\n",
       "      <td>['Image Number: 5565673', 'cannabis aphid (Pho...</td>\n",
       "    </tr>\n",
       "  </tbody>\n",
       "</table>\n",
       "</div>"
      ],
      "text/plain": [
       "                                                   0  \\\n",
       "0  https://www.ipmimages.org/image.cfm?imgnum=556...   \n",
       "1  https://www.ipmimages.org/image.cfm?imgnum=556...   \n",
       "2  https://www.ipmimages.org/image.cfm?imgnum=556...   \n",
       "3  https://www.ipmimages.org/image.cfm?imgnum=556...   \n",
       "4  https://www.ipmimages.org/image.cfm?imgnum=556...   \n",
       "\n",
       "                                                   1  \n",
       "0  ['Image Number: 5565669', 'cannabis aphid (Pho...  \n",
       "1  ['Image Number: 5565672', 'cannabis aphid (Pho...  \n",
       "2  ['Image Number: 5565667', 'cannabis aphid (Pho...  \n",
       "3  ['Image Number: 5565670', 'cannabis aphid (Pho...  \n",
       "4  ['Image Number: 5565673', 'cannabis aphid (Pho...  "
      ]
     },
     "execution_count": 19,
     "metadata": {},
     "output_type": "execute_result"
    }
   ],
   "source": [
    "dataframe = pd.read_csv('Metadata_Outputs.csv', header=None)\n",
    "\n",
    "dataframe.head()"
   ]
  },
  {
   "cell_type": "code",
   "execution_count": 28,
   "metadata": {},
   "outputs": [],
   "source": [
    "# initialize the empty lists\n",
    "link = []\n",
    "disease = []\n",
    "\n",
    "# preprocess the dataframe\n",
    "for i in range(len(dataframe)):\n",
    "    link_placeholder = dataframe.iloc[i, 0]\n",
    "    \n",
    "    decoded_item = dataframe.iloc[i, 1][1:-1]\n",
    "    item_value = decoded_item.split(',')\n",
    "    disease_placeholder = item_value[1][2:-1].strip()\n",
    "\n",
    "    # append the information to the list\n",
    "    link.append(link_placeholder)\n",
    "    disease.append(disease_placeholder)\n",
    "   "
   ]
  },
  {
   "cell_type": "code",
   "execution_count": 29,
   "metadata": {},
   "outputs": [],
   "source": [
    "# Create new dataframe df using the new list variables\n",
    "df = pd.DataFrame(list(zip(link, disease)), \n",
    "               columns =['link', 'disease']) "
   ]
  },
  {
   "cell_type": "code",
   "execution_count": 30,
   "metadata": {},
   "outputs": [
    {
     "data": {
      "text/html": [
       "<div>\n",
       "<style scoped>\n",
       "    .dataframe tbody tr th:only-of-type {\n",
       "        vertical-align: middle;\n",
       "    }\n",
       "\n",
       "    .dataframe tbody tr th {\n",
       "        vertical-align: top;\n",
       "    }\n",
       "\n",
       "    .dataframe thead th {\n",
       "        text-align: right;\n",
       "    }\n",
       "</style>\n",
       "<table border=\"1\" class=\"dataframe\">\n",
       "  <thead>\n",
       "    <tr style=\"text-align: right;\">\n",
       "      <th></th>\n",
       "      <th>link</th>\n",
       "      <th>disease</th>\n",
       "    </tr>\n",
       "  </thead>\n",
       "  <tbody>\n",
       "    <tr>\n",
       "      <th>0</th>\n",
       "      <td>https://www.ipmimages.org/image.cfm?imgnum=556...</td>\n",
       "      <td>cannabis aphid (Phorodon cannabis) (Passerini)</td>\n",
       "    </tr>\n",
       "    <tr>\n",
       "      <th>1</th>\n",
       "      <td>https://www.ipmimages.org/image.cfm?imgnum=556...</td>\n",
       "      <td>cannabis aphid (Phorodon cannabis) (Passerini)</td>\n",
       "    </tr>\n",
       "    <tr>\n",
       "      <th>2</th>\n",
       "      <td>https://www.ipmimages.org/image.cfm?imgnum=556...</td>\n",
       "      <td>cannabis aphid (Phorodon cannabis) (Passerini)</td>\n",
       "    </tr>\n",
       "    <tr>\n",
       "      <th>3</th>\n",
       "      <td>https://www.ipmimages.org/image.cfm?imgnum=556...</td>\n",
       "      <td>cannabis aphid (Phorodon cannabis) (Passerini)</td>\n",
       "    </tr>\n",
       "    <tr>\n",
       "      <th>4</th>\n",
       "      <td>https://www.ipmimages.org/image.cfm?imgnum=556...</td>\n",
       "      <td>cannabis aphid (Phorodon cannabis) (Passerini)</td>\n",
       "    </tr>\n",
       "  </tbody>\n",
       "</table>\n",
       "</div>"
      ],
      "text/plain": [
       "                                                link  \\\n",
       "0  https://www.ipmimages.org/image.cfm?imgnum=556...   \n",
       "1  https://www.ipmimages.org/image.cfm?imgnum=556...   \n",
       "2  https://www.ipmimages.org/image.cfm?imgnum=556...   \n",
       "3  https://www.ipmimages.org/image.cfm?imgnum=556...   \n",
       "4  https://www.ipmimages.org/image.cfm?imgnum=556...   \n",
       "\n",
       "                                          disease  \n",
       "0  cannabis aphid (Phorodon cannabis) (Passerini)  \n",
       "1  cannabis aphid (Phorodon cannabis) (Passerini)  \n",
       "2  cannabis aphid (Phorodon cannabis) (Passerini)  \n",
       "3  cannabis aphid (Phorodon cannabis) (Passerini)  \n",
       "4  cannabis aphid (Phorodon cannabis) (Passerini)  "
      ]
     },
     "execution_count": 30,
     "metadata": {},
     "output_type": "execute_result"
    }
   ],
   "source": [
    "df.head()"
   ]
  },
  {
   "cell_type": "code",
   "execution_count": 31,
   "metadata": {},
   "outputs": [],
   "source": [
    "# create folder named downloads\n",
    "# create loop where:\n",
    "## image from the link is downloaded\n",
    "## append the disease in the name with an index number added automatically"
   ]
  },
  {
   "cell_type": "code",
   "execution_count": 38,
   "metadata": {},
   "outputs": [
    {
     "name": "stdout",
     "output_type": "stream",
     "text": [
      "Successfully created the directory Downloads \n"
     ]
    }
   ],
   "source": [
    "import os\n",
    "\n",
    "# define the name of the directory to be created\n",
    "folder = \"Downloads\"\n",
    "\n",
    "try:\n",
    "    os.mkdir(folder)\n",
    "except OSError:\n",
    "    print (\"Creation of the directory %s failed\" % path)\n",
    "else:\n",
    "    print (\"Successfully created the directory %s \" % path)"
   ]
  },
  {
   "cell_type": "code",
   "execution_count": 44,
   "metadata": {},
   "outputs": [
    {
     "ename": "KeyboardInterrupt",
     "evalue": "",
     "output_type": "error",
     "traceback": [
      "\u001b[1;31m---------------------------------------------------------------------------\u001b[0m",
      "\u001b[1;31mKeyboardInterrupt\u001b[0m                         Traceback (most recent call last)",
      "\u001b[1;32m<ipython-input-44-cfd1417cd2b0>\u001b[0m in \u001b[0;36m<module>\u001b[1;34m()\u001b[0m\n\u001b[0;32m      4\u001b[0m     \u001b[0mlink\u001b[0m \u001b[1;33m=\u001b[0m \u001b[0mdf\u001b[0m\u001b[1;33m.\u001b[0m\u001b[0miloc\u001b[0m\u001b[1;33m[\u001b[0m\u001b[0mindex\u001b[0m\u001b[1;33m,\u001b[0m \u001b[1;36m0\u001b[0m\u001b[1;33m]\u001b[0m\u001b[1;33m\u001b[0m\u001b[0m\n\u001b[0;32m      5\u001b[0m \u001b[1;33m\u001b[0m\u001b[0m\n\u001b[1;32m----> 6\u001b[1;33m     \u001b[0mdriver\u001b[0m \u001b[1;33m=\u001b[0m \u001b[0mwebdriver\u001b[0m\u001b[1;33m.\u001b[0m\u001b[0mChrome\u001b[0m\u001b[1;33m(\u001b[0m\u001b[1;34m\"chromedriver.exe\"\u001b[0m\u001b[1;33m)\u001b[0m\u001b[1;33m\u001b[0m\u001b[0m\n\u001b[0m\u001b[0;32m      7\u001b[0m     \u001b[0mdriver\u001b[0m\u001b[1;33m.\u001b[0m\u001b[0mget\u001b[0m\u001b[1;33m(\u001b[0m\u001b[0mlink\u001b[0m\u001b[1;33m)\u001b[0m\u001b[1;33m\u001b[0m\u001b[0m\n\u001b[0;32m      8\u001b[0m     \u001b[0murl\u001b[0m \u001b[1;33m=\u001b[0m \u001b[0mdriver\u001b[0m\u001b[1;33m.\u001b[0m\u001b[0mfind_element_by_id\u001b[0m\u001b[1;33m(\u001b[0m\u001b[1;34m\"mainimage\"\u001b[0m\u001b[1;33m)\u001b[0m\u001b[1;33m.\u001b[0m\u001b[0mget_attribute\u001b[0m\u001b[1;33m(\u001b[0m\u001b[1;34m\"src\"\u001b[0m\u001b[1;33m)\u001b[0m\u001b[1;33m\u001b[0m\u001b[0m\n",
      "\u001b[1;32m~\\Anaconda3\\lib\\site-packages\\selenium\\webdriver\\chrome\\webdriver.py\u001b[0m in \u001b[0;36m__init__\u001b[1;34m(self, executable_path, port, options, service_args, desired_capabilities, service_log_path, chrome_options, keep_alive)\u001b[0m\n\u001b[0;32m     71\u001b[0m             \u001b[0mservice_args\u001b[0m\u001b[1;33m=\u001b[0m\u001b[0mservice_args\u001b[0m\u001b[1;33m,\u001b[0m\u001b[1;33m\u001b[0m\u001b[0m\n\u001b[0;32m     72\u001b[0m             log_path=service_log_path)\n\u001b[1;32m---> 73\u001b[1;33m         \u001b[0mself\u001b[0m\u001b[1;33m.\u001b[0m\u001b[0mservice\u001b[0m\u001b[1;33m.\u001b[0m\u001b[0mstart\u001b[0m\u001b[1;33m(\u001b[0m\u001b[1;33m)\u001b[0m\u001b[1;33m\u001b[0m\u001b[0m\n\u001b[0m\u001b[0;32m     74\u001b[0m \u001b[1;33m\u001b[0m\u001b[0m\n\u001b[0;32m     75\u001b[0m         \u001b[1;32mtry\u001b[0m\u001b[1;33m:\u001b[0m\u001b[1;33m\u001b[0m\u001b[0m\n",
      "\u001b[1;32m~\\Anaconda3\\lib\\site-packages\\selenium\\webdriver\\common\\service.py\u001b[0m in \u001b[0;36mstart\u001b[1;34m(self)\u001b[0m\n\u001b[0;32m     97\u001b[0m         \u001b[1;32mwhile\u001b[0m \u001b[1;32mTrue\u001b[0m\u001b[1;33m:\u001b[0m\u001b[1;33m\u001b[0m\u001b[0m\n\u001b[0;32m     98\u001b[0m             \u001b[0mself\u001b[0m\u001b[1;33m.\u001b[0m\u001b[0massert_process_still_running\u001b[0m\u001b[1;33m(\u001b[0m\u001b[1;33m)\u001b[0m\u001b[1;33m\u001b[0m\u001b[0m\n\u001b[1;32m---> 99\u001b[1;33m             \u001b[1;32mif\u001b[0m \u001b[0mself\u001b[0m\u001b[1;33m.\u001b[0m\u001b[0mis_connectable\u001b[0m\u001b[1;33m(\u001b[0m\u001b[1;33m)\u001b[0m\u001b[1;33m:\u001b[0m\u001b[1;33m\u001b[0m\u001b[0m\n\u001b[0m\u001b[0;32m    100\u001b[0m                 \u001b[1;32mbreak\u001b[0m\u001b[1;33m\u001b[0m\u001b[0m\n\u001b[0;32m    101\u001b[0m             \u001b[0mcount\u001b[0m \u001b[1;33m+=\u001b[0m \u001b[1;36m1\u001b[0m\u001b[1;33m\u001b[0m\u001b[0m\n",
      "\u001b[1;32m~\\Anaconda3\\lib\\site-packages\\selenium\\webdriver\\common\\service.py\u001b[0m in \u001b[0;36mis_connectable\u001b[1;34m(self)\u001b[0m\n\u001b[0;32m    113\u001b[0m \u001b[1;33m\u001b[0m\u001b[0m\n\u001b[0;32m    114\u001b[0m     \u001b[1;32mdef\u001b[0m \u001b[0mis_connectable\u001b[0m\u001b[1;33m(\u001b[0m\u001b[0mself\u001b[0m\u001b[1;33m)\u001b[0m\u001b[1;33m:\u001b[0m\u001b[1;33m\u001b[0m\u001b[0m\n\u001b[1;32m--> 115\u001b[1;33m         \u001b[1;32mreturn\u001b[0m \u001b[0mutils\u001b[0m\u001b[1;33m.\u001b[0m\u001b[0mis_connectable\u001b[0m\u001b[1;33m(\u001b[0m\u001b[0mself\u001b[0m\u001b[1;33m.\u001b[0m\u001b[0mport\u001b[0m\u001b[1;33m)\u001b[0m\u001b[1;33m\u001b[0m\u001b[0m\n\u001b[0m\u001b[0;32m    116\u001b[0m \u001b[1;33m\u001b[0m\u001b[0m\n\u001b[0;32m    117\u001b[0m     \u001b[1;32mdef\u001b[0m \u001b[0msend_remote_shutdown_command\u001b[0m\u001b[1;33m(\u001b[0m\u001b[0mself\u001b[0m\u001b[1;33m)\u001b[0m\u001b[1;33m:\u001b[0m\u001b[1;33m\u001b[0m\u001b[0m\n",
      "\u001b[1;32m~\\Anaconda3\\lib\\site-packages\\selenium\\webdriver\\common\\utils.py\u001b[0m in \u001b[0;36mis_connectable\u001b[1;34m(port, host)\u001b[0m\n\u001b[0;32m    104\u001b[0m     \u001b[0msocket_\u001b[0m \u001b[1;33m=\u001b[0m \u001b[1;32mNone\u001b[0m\u001b[1;33m\u001b[0m\u001b[0m\n\u001b[0;32m    105\u001b[0m     \u001b[1;32mtry\u001b[0m\u001b[1;33m:\u001b[0m\u001b[1;33m\u001b[0m\u001b[0m\n\u001b[1;32m--> 106\u001b[1;33m         \u001b[0msocket_\u001b[0m \u001b[1;33m=\u001b[0m \u001b[0msocket\u001b[0m\u001b[1;33m.\u001b[0m\u001b[0mcreate_connection\u001b[0m\u001b[1;33m(\u001b[0m\u001b[1;33m(\u001b[0m\u001b[0mhost\u001b[0m\u001b[1;33m,\u001b[0m \u001b[0mport\u001b[0m\u001b[1;33m)\u001b[0m\u001b[1;33m,\u001b[0m \u001b[1;36m1\u001b[0m\u001b[1;33m)\u001b[0m\u001b[1;33m\u001b[0m\u001b[0m\n\u001b[0m\u001b[0;32m    107\u001b[0m         \u001b[0mresult\u001b[0m \u001b[1;33m=\u001b[0m \u001b[1;32mTrue\u001b[0m\u001b[1;33m\u001b[0m\u001b[0m\n\u001b[0;32m    108\u001b[0m     \u001b[1;32mexcept\u001b[0m \u001b[0msocket\u001b[0m\u001b[1;33m.\u001b[0m\u001b[0merror\u001b[0m\u001b[1;33m:\u001b[0m\u001b[1;33m\u001b[0m\u001b[0m\n",
      "\u001b[1;32m~\\Anaconda3\\lib\\socket.py\u001b[0m in \u001b[0;36mcreate_connection\u001b[1;34m(address, timeout, source_address)\u001b[0m\n\u001b[0;32m    711\u001b[0m             \u001b[1;32mif\u001b[0m \u001b[0msource_address\u001b[0m\u001b[1;33m:\u001b[0m\u001b[1;33m\u001b[0m\u001b[0m\n\u001b[0;32m    712\u001b[0m                 \u001b[0msock\u001b[0m\u001b[1;33m.\u001b[0m\u001b[0mbind\u001b[0m\u001b[1;33m(\u001b[0m\u001b[0msource_address\u001b[0m\u001b[1;33m)\u001b[0m\u001b[1;33m\u001b[0m\u001b[0m\n\u001b[1;32m--> 713\u001b[1;33m             \u001b[0msock\u001b[0m\u001b[1;33m.\u001b[0m\u001b[0mconnect\u001b[0m\u001b[1;33m(\u001b[0m\u001b[0msa\u001b[0m\u001b[1;33m)\u001b[0m\u001b[1;33m\u001b[0m\u001b[0m\n\u001b[0m\u001b[0;32m    714\u001b[0m             \u001b[1;31m# Break explicitly a reference cycle\u001b[0m\u001b[1;33m\u001b[0m\u001b[1;33m\u001b[0m\u001b[0m\n\u001b[0;32m    715\u001b[0m             \u001b[0merr\u001b[0m \u001b[1;33m=\u001b[0m \u001b[1;32mNone\u001b[0m\u001b[1;33m\u001b[0m\u001b[0m\n",
      "\u001b[1;31mKeyboardInterrupt\u001b[0m: "
     ]
    }
   ],
   "source": [
    "import requests\n",
    "\n",
    "for index in range(len(df)):\n",
    "    link = df.iloc[index, 0]\n",
    "    \n",
    "    driver = webdriver.Chrome(\"chromedriver.exe\")\n",
    "    driver.get(link)\n",
    "    url = driver.find_element_by_id(\"mainimage\").get_attribute(\"src\")\n",
    "    \n",
    "    name = str(index) + \". \" + str(df.iloc[index, 1])\n",
    "    path = os.path.join(folder, name)\n",
    "    \n",
    "    #url = 'https://www.python.org/static/img/python-logo@2x.png'\n",
    "    myfile = requests.get(url)\n",
    "    open(path, 'wb').write(myfile.content)"
   ]
  },
  {
   "cell_type": "code",
   "execution_count": 43,
   "metadata": {},
   "outputs": [
    {
     "name": "stdout",
     "output_type": "stream",
     "text": [
      "https://bugwoodcloud.org/images/768x512/5565669.jpg\n"
     ]
    }
   ],
   "source": [
    "driver = webdriver.Chrome(\"chromedriver.exe\")\n",
    "driver.get(\"https://www.ipmimages.org/image.cfm?imgnum=5565669\")\n",
    "    \n",
    "\n",
    "a = driver.find_element_by_id(\"mainimage\").get_attribute(\"src\")\n",
    "print(a)"
   ]
  },
  {
   "cell_type": "code",
   "execution_count": 45,
   "metadata": {},
   "outputs": [
    {
     "data": {
      "text/plain": [
       "919"
      ]
     },
     "execution_count": 45,
     "metadata": {},
     "output_type": "execute_result"
    }
   ],
   "source": [
    "myfile = requests.get(\"https://bugwoodcloud.org/images/768x512/5565669.jpg\")\n",
    "open('1.jpg', 'wb').write(myfile.content)"
   ]
  },
  {
   "cell_type": "code",
   "execution_count": 47,
   "metadata": {},
   "outputs": [],
   "source": [
    "img_data = requests.get(\"https://bugwoodcloud.org/images/768x512/5565669.jpg\").content\n",
    "with open('image_name.jpg', 'wb') as handler:\n",
    "    handler.write(img_data)"
   ]
  },
  {
   "cell_type": "code",
   "execution_count": 53,
   "metadata": {},
   "outputs": [],
   "source": [
    "#You have to first move to the element where you want to perform the context click\n",
    "from selenium.webdriver import ActionChains \n",
    "from selenium.webdriver.common.keys import Keys\n",
    "from selenium import webdriver\n",
    "\n",
    "driver = webdriver.Chrome(\"chromedriver.exe\")\n",
    "driver.get(url)\n",
    "\n",
    "# get the image source\n",
    "img = driver.find_element_by_xpath('//img')\n",
    "actionChains = ActionChains(driver)\n",
    "actionChains.move_to_element(img).context_click().send_keys(Keys.ARROW_DOWN).send_keys(Keys.ARROW_DOWN).send_keys(Keys.RETURN).perform()"
   ]
  },
  {
   "cell_type": "code",
   "execution_count": null,
   "metadata": {},
   "outputs": [],
   "source": []
  }
 ],
 "metadata": {
  "kernelspec": {
   "display_name": "Python 3",
   "language": "python",
   "name": "python3"
  },
  "language_info": {
   "codemirror_mode": {
    "name": "ipython",
    "version": 3
   },
   "file_extension": ".py",
   "mimetype": "text/x-python",
   "name": "python",
   "nbconvert_exporter": "python",
   "pygments_lexer": "ipython3",
   "version": "3.6.4"
  }
 },
 "nbformat": 4,
 "nbformat_minor": 2
}
