{
 "cells": [
  {
   "cell_type": "code",
   "execution_count": 3,
   "metadata": {},
   "outputs": [],
   "source": [
    "from selenium import webdriver\n",
    "from selenium.webdriver.common.keys import Keys\n",
    "from selenium.webdriver.chrome.options import Options\n",
    "\n",
    "import time\n",
    "import pandas as pd"
   ]
  },
  {
   "cell_type": "code",
   "execution_count": 5,
   "metadata": {},
   "outputs": [
    {
     "name": "stderr",
     "output_type": "stream",
     "text": [
      "C:\\Users\\Tanzim\\Anaconda3\\lib\\site-packages\\ipykernel_launcher.py:4: DeprecationWarning: use options instead of chrome_options\n",
      "  after removing the cwd from sys.path.\n"
     ]
    }
   ],
   "source": [
    "options = Options()\n",
    "options.binary_location = \"C:\\Program Files (x86)\\Google\\Chrome\\Application\\chrome.exe\"\n",
    "\n",
    "driver = webdriver.Chrome(chrome_options = options, executable_path=r'chromedriver.exe')"
   ]
  },
  {
   "cell_type": "code",
   "execution_count": 6,
   "metadata": {},
   "outputs": [],
   "source": [
    "#driver.set_page_load_timeout(10)\n",
    "\n",
    "driver.get(\"https://www.ipmimages.org/search/action.cfm?q=cannabis+sativa+cranshaw\")"
   ]
  },
  {
   "cell_type": "markdown",
   "metadata": {},
   "source": [
    "#driver.find_element_by_name(\"q\").send_keys(\"Automation step by step\")\n",
    "\n",
    "#driver.find_element_by_name(\"btnK\").send_keys(Keys.ENTER)\n",
    "#driver.find_element_by_name(\"q\").send_keys(Keys.ENTER)\n",
    "\n",
    "#time.sleep(4)"
   ]
  },
  {
   "cell_type": "code",
   "execution_count": 7,
   "metadata": {
    "scrolled": true
   },
   "outputs": [],
   "source": [
    "results = driver.find_elements_by_xpath('//div[@class=\"col-xs-12 col-sm-6 col-md-4 text-center\"]')\n",
    "#print(buyers)"
   ]
  },
  {
   "cell_type": "code",
   "execution_count": null,
   "metadata": {},
   "outputs": [],
   "source": [
    "# Partial link + reference for every individual page\n",
    "partial_link = \"https://www.ipmimages.org/browse/detail.cfm?imgnum=\"\n",
    "\n",
    "# Initialize the empty list where all the data is going to be appended\n",
    "main_list = []\n",
    "\n",
    "# Loops through every result in the search results page. Navigates to every search result page and appends the data to the empty file_list\n",
    "for result in results:\n",
    "    # Initialize empty list that must be appended\n",
    "    file_list = []\n",
    "    \n",
    "    #print(result.text.split(\"\\n\",5)[0:7], \"\\n\\n\")\n",
    "    full_link = partial_link + result.text.split(\"\\n\",8)[0]\n",
    "    driver = webdriver.Chrome(\"chromedriver.exe\")\n",
    "    driver.get(full_link)\n",
    "    \n",
    "    fields = driver.find_elements_by_xpath('//div[@class=\"panel-body\"]')\n",
    "    link = driver.find_elements_by_tag_name('iframe')[0].get_attribute(\"src\")\n",
    "    #print(len(links), links[0].get_attribute(\"src\"))\n",
    "    \n",
    "    for field in fields:\n",
    "    #print(field.text.split(\"\\n\",12)[-1:][0].split(\":\"))\n",
    "        try:\n",
    "            if (field.text.split(\"\\n\",12)[-1:][0].split(\":\")==['Host', '\\nhemp/marijuana (sativa) (Cannabis sativa L)']):\n",
    "                    #print('cool')\n",
    "                    \n",
    "                    file_list.append(link)\n",
    "                    file_list.append(field.text.split(\"\\n\"))\n",
    "                    \n",
    "                    #print(field.text.split(\"\\n\",12))\n",
    "                    #print(file_list)\n",
    "                    main_list.append(file_list)\n",
    "            else:\n",
    "                    pass\n",
    "        except:\n",
    "            print('an exception has occured')\n",
    "\n",
    "            break\n",
    "    time.sleep(0.25)\n",
    "    driver.close()\n",
    "    \n",
    "\n",
    "    "
   ]
  },
  {
   "cell_type": "code",
   "execution_count": 9,
   "metadata": {},
   "outputs": [
    {
     "name": "stdout",
     "output_type": "stream",
     "text": [
      "main list is \n",
      " [['https://www.ipmimages.org/image.cfm?imgnum=5565669', ['Image Number: 5565669', 'cannabis aphid (Phorodon cannabis) (Passerini)', 'Photographer:', 'Whitney Cranshaw', 'Organization:', 'Colorado State University', 'Descriptor:', 'Nymph(s)', 'Description:', 'Cannabis aphid killed by fungal pathogen', 'Image type:', 'Field', 'Host:', 'hemp/marijuana (sativa) (Cannabis sativa L)']], ['https://www.ipmimages.org/image.cfm?imgnum=5565672', ['Image Number: 5565672', 'cannabis aphid (Phorodon cannabis) (Passerini)', 'Photographer:', 'Whitney Cranshaw', 'Organization:', 'Colorado State University', 'Descriptor:', 'Biological Control', 'Description:', 'Winged adult cannabis aphid, parasitized by a braconid wasp.  An \"aphid mummy\"', 'Image type:', 'Field', 'Host:', 'hemp/marijuana (sativa) (Cannabis sativa L)']], ['https://www.ipmimages.org/image.cfm?imgnum=5565667', ['Image Number: 5565667', 'cannabis aphid (Phorodon cannabis) (Passerini)', 'Photographer:', 'Whitney Cranshaw', 'Organization:', 'Colorado State University', 'Descriptor:', 'Indicator(s)', 'Description:', 'Cast skins of cannabis aphid', 'Image type:', 'Field', 'Host:', 'hemp/marijuana (sativa) (Cannabis sativa L)']], ['https://www.ipmimages.org/image.cfm?imgnum=5565670', ['Image Number: 5565670', 'cannabis aphid (Phorodon cannabis) (Passerini)', 'Photographer:', 'Whitney Cranshaw', 'Organization:', 'Colorado State University', 'Descriptor:', 'Biological Control', 'Description:', 'Cannabis aphid mummy, killed by a braconid wasp', 'Image type:', 'Field', 'Host:', 'hemp/marijuana (sativa) (Cannabis sativa L)']], ['https://www.ipmimages.org/image.cfm?imgnum=5565673', ['Image Number: 5565673', 'cannabis aphid (Phorodon cannabis) (Passerini)', 'Photographer:', 'Whitney Cranshaw', 'Organization:', 'Colorado State University', 'Descriptor:', 'Biological Control', 'Description:', 'Cannabis aphid mummy with exit hole from braconid parasitoid.', 'Image type:', 'Field', 'Host:', 'hemp/marijuana (sativa) (Cannabis sativa L)']], ['https://www.ipmimages.org/image.cfm?imgnum=5556184', ['Image Number: 5556184', 'cannabis aphid (Phorodon cannabis) (Passerini)', 'Photographer:', 'Whitney Cranshaw', 'Organization:', 'Colorado State University', 'Descriptor:', 'Multiple Life Stages', 'Description:', 'Mixed life stages on hemp foliage.', 'Image type:', 'Field', 'Host:', 'hemp/marijuana (sativa) (Cannabis sativa L)']], ['https://www.ipmimages.org/image.cfm?imgnum=5556185', ['Image Number: 5556185', 'cannabis aphid (Phorodon cannabis) (Passerini)', 'Photographer:', 'Whitney Cranshaw', 'Organization:', 'Colorado State University', 'Descriptor:', 'Multiple Life Stages', 'Description:', 'Mixed life stages on hemp foliage.', 'Image type:', 'Field', 'Host:', 'hemp/marijuana (sativa) (Cannabis sativa L)']], ['https://www.ipmimages.org/image.cfm?imgnum=5556186', ['Image Number: 5556186', 'cannabis aphid (Phorodon cannabis) (Passerini)', 'Photographer:', 'Whitney Cranshaw', 'Organization:', 'Colorado State University', 'Descriptor:', 'Multiple Life Stages', 'Description:', 'Alate adult and nymph.', 'Image type:', 'Field', 'Host:', 'hemp/marijuana (sativa) (Cannabis sativa L)']], ['https://www.ipmimages.org/image.cfm?imgnum=5556187', ['Image Number: 5556187', 'cannabis aphid (Phorodon cannabis) (Passerini)', 'Photographer:', 'Whitney Cranshaw', 'Organization:', 'Colorado State University', 'Descriptor:', 'Multiple Life Stages', 'Description:', 'Apterous adults and cast skins.', 'Image type:', 'Field', 'Host:', 'hemp/marijuana (sativa) (Cannabis sativa L)']], ['https://www.ipmimages.org/image.cfm?imgnum=5556188', ['Image Number: 5556188', 'cannabis aphid (Phorodon cannabis) (Passerini)', 'Photographer:', 'Whitney Cranshaw', 'Organization:', 'Colorado State University', 'Descriptor:', 'Multiple Life Stages', 'Description:', 'Apterous adults and nymphs.', 'Image type:', 'Field', 'Host:', 'hemp/marijuana (sativa) (Cannabis sativa L)']], ['https://www.ipmimages.org/image.cfm?imgnum=5556189', ['Image Number: 5556189', 'cannabis aphid (Phorodon cannabis) (Passerini)', 'Photographer:', 'Whitney Cranshaw', 'Organization:', 'Colorado State University', 'Descriptor:', 'Multiple Life Stages', 'Description:', 'Nymphs', 'Image type:', 'Field', 'Host:', 'hemp/marijuana (sativa) (Cannabis sativa L)']], ['https://www.ipmimages.org/image.cfm?imgnum=5556190', ['Image Number: 5556190', 'cannabis aphid (Phorodon cannabis) (Passerini)', 'Photographer:', 'Whitney Cranshaw', 'Organization:', 'Colorado State University', 'Descriptor:', 'Multiple Life Stages', 'Description:', 'Apterous adult', 'Image type:', 'Field', 'Host:', 'hemp/marijuana (sativa) (Cannabis sativa L)']], ['https://www.ipmimages.org/image.cfm?imgnum=5565652', ['Image Number: 5565652', 'cannabis aphid (Phorodon cannabis) (Passerini)', 'Photographer:', 'Whitney Cranshaw', 'Organization:', 'Colorado State University', 'Descriptor:', 'Adult(s)', 'Description:', 'Wingless adult.', 'Image type:', 'Field', 'Host:', 'hemp/marijuana (sativa) (Cannabis sativa L)']], ['https://www.ipmimages.org/image.cfm?imgnum=5565653', ['Image Number: 5565653', 'cannabis aphid (Phorodon cannabis) (Passerini)', 'Photographer:', 'Whitney Cranshaw', 'Organization:', 'Colorado State University', 'Descriptor:', 'Multiple Life Stages', 'Description:', 'Adult and nymphs, wingless forms', 'Image type:', 'Field', 'Host:', 'hemp/marijuana (sativa) (Cannabis sativa L)']], ['https://www.ipmimages.org/image.cfm?imgnum=5565654', ['Image Number: 5565654', 'cannabis aphid (Phorodon cannabis) (Passerini)', 'Photographer:', 'Whitney Cranshaw', 'Organization:', 'Colorado State University', 'Descriptor:', 'Multiple Life Stages', 'Description:', 'Mixed life stages on hemp.  Photograph taken September 11, 2017', 'Image type:', 'Field', 'Host:', 'hemp/marijuana (sativa) (Cannabis sativa L)']], ['https://www.ipmimages.org/image.cfm?imgnum=5565655', ['Image Number: 5565655', 'cannabis aphid (Phorodon cannabis) (Passerini)', 'Photographer:', 'Whitney Cranshaw', 'Organization:', 'Colorado State University', 'Descriptor:', 'Multiple Life Stages', 'Description:', 'Heavy infestation with mixed life stages on hemp.  Photograph taken September 11, 2017', 'Image type:', 'Field', 'Host:', 'hemp/marijuana (sativa) (Cannabis sativa L)']], ['https://www.ipmimages.org/image.cfm?imgnum=5565657', ['Image Number: 5565657', 'cannabis aphid (Phorodon cannabis) (Passerini)', 'Photographer:', 'Whitney Cranshaw', 'Organization:', 'Colorado State University', 'Descriptor:', 'Multiple Life Stages', 'Description:', 'Recent winged form colonizers and newly produced nymphs.  Photograph taken September 1', 'Image type:', 'Field', 'Host:', 'hemp/marijuana (sativa) (Cannabis sativa L)']], ['https://www.ipmimages.org/image.cfm?imgnum=5565658', ['Image Number: 5565658', 'cannabis aphid (Phorodon cannabis) (Passerini)', 'Photographer:', 'Whitney Cranshaw', 'Organization:', 'Colorado State University', 'Descriptor:', 'Multiple Life Stages', 'Description:', 'Heavy infestation early in the season (June 29) ', 'Image type:', 'Field', 'Host:', 'hemp/marijuana (sativa) (Cannabis sativa L)']], ['https://www.ipmimages.org/image.cfm?imgnum=5565659', ['Image Number: 5565659', 'cannabis aphid (Phorodon cannabis) (Passerini)', 'Photographer:', 'Whitney Cranshaw', 'Organization:', 'Colorado State University', 'Descriptor:', 'Multiple Life Stages', 'Description:', 'Mixed stages on stem.  Photograph taken August 31. 2017', 'Image type:', 'Field', 'Host:', 'hemp/marijuana (sativa) (Cannabis sativa L)']], ['https://www.ipmimages.org/image.cfm?imgnum=5565660', ['Image Number: 5565660', 'cannabis aphid (Phorodon cannabis) (Passerini)', 'Photographer:', 'Whitney Cranshaw', 'Organization:', 'Colorado State University', 'Descriptor:', 'Nymph(s)', 'Description:', 'Late stage nymph with wing pads', 'Image type:', 'Field', 'Host:', 'hemp/marijuana (sativa) (Cannabis sativa L)']], ['https://www.ipmimages.org/image.cfm?imgnum=5565661', ['Image Number: 5565661', 'cannabis aphid (Phorodon cannabis) (Passerini)', 'Photographer:', 'Whitney Cranshaw', 'Organization:', 'Colorado State University', 'Descriptor:', 'Adult(s)', 'Description:', 'Winged form female', 'Image type:', 'Field', 'Host:', 'hemp/marijuana (sativa) (Cannabis sativa L)']], ['https://www.ipmimages.org/image.cfm?imgnum=5565662', ['Image Number: 5565662', 'cannabis aphid (Phorodon cannabis) (Passerini)', 'Photographer:', 'Whitney Cranshaw', 'Organization:', 'Colorado State University', 'Descriptor:', 'Adult(s)', 'Description:', 'Winged form female', 'Image type:', 'Field', 'Host:', 'hemp/marijuana (sativa) (Cannabis sativa L)']], ['https://www.ipmimages.org/image.cfm?imgnum=5565663', ['Image Number: 5565663', 'cannabis aphid (Phorodon cannabis) (Passerini)', 'Photographer:', 'Whitney Cranshaw', 'Organization:', 'Colorado State University', 'Descriptor:', 'Adult(s)', 'Description:', 'Winged form.  Photograph taken August 31, 2017', 'Image type:', 'Field', 'Host:', 'hemp/marijuana (sativa) (Cannabis sativa L)']], ['https://www.ipmimages.org/image.cfm?imgnum=5565664', ['Image Number: 5565664', 'cannabis aphid (Phorodon cannabis) (Passerini)', 'Photographer:', 'Whitney Cranshaw', 'Organization:', 'Colorado State University', 'Descriptor:', 'Multiple Life Stages', 'Description:', 'Mixed life stages on hemp, with syrphid egg.  Photograph taken September 11, 2017', 'Image type:', 'Field', 'Host:', 'hemp/marijuana (sativa) (Cannabis sativa L)']], ['https://www.ipmimages.org/image.cfm?imgnum=5565665', ['Image Number: 5565665', 'cannabis aphid (Phorodon cannabis) (Passerini)', 'Photographer:', 'Whitney Cranshaw', 'Organization:', 'Colorado State University', 'Descriptor:', 'Nymph(s)', 'Description:', 'Newly molted nymph.  The discarded skin is to the left', 'Image type:', 'Field', 'Host:', 'hemp/marijuana (sativa) (Cannabis sativa L)']], ['https://www.ipmimages.org/image.cfm?imgnum=5565666', ['Image Number: 5565666', 'cannabis aphid (Phorodon cannabis) (Passerini)', 'Photographer:', 'Whitney Cranshaw', 'Organization:', 'Colorado State University', 'Descriptor:', 'Indicator(s)', 'Description:', 'Plant with cast skins and honeydew', 'Image type:', 'Field', 'Host:', 'hemp/marijuana (sativa) (Cannabis sativa L)']], ['https://www.ipmimages.org/image.cfm?imgnum=5565668', ['Image Number: 5565668', 'cannabis aphid (Phorodon cannabis) (Passerini)', 'Photographer:', 'Whitney Cranshaw', 'Organization:', 'Colorado State University', 'Descriptor:', 'Nymph(s)', 'Description:', 'Late stage nymph with wing pads', 'Image type:', 'Field', 'Host:', 'hemp/marijuana (sativa) (Cannabis sativa L)']]]\n"
     ]
    }
   ],
   "source": [
    "print(\"main list is \\n\", main_list)"
   ]
  },
  {
   "cell_type": "code",
   "execution_count": 10,
   "metadata": {},
   "outputs": [],
   "source": [
    "import csv\n",
    "\n",
    "with open(\"Metadata_Outputs.csv\", \"w\") as f:\n",
    "    writer = csv.writer(f)\n",
    "    writer.writerows(main_list)"
   ]
  },
  {
   "cell_type": "code",
   "execution_count": null,
   "metadata": {},
   "outputs": [],
   "source": []
  }
 ],
 "metadata": {
  "kernelspec": {
   "display_name": "Python 3",
   "language": "python",
   "name": "python3"
  },
  "language_info": {
   "codemirror_mode": {
    "name": "ipython",
    "version": 3
   },
   "file_extension": ".py",
   "mimetype": "text/x-python",
   "name": "python",
   "nbconvert_exporter": "python",
   "pygments_lexer": "ipython3",
   "version": "3.6.4"
  }
 },
 "nbformat": 4,
 "nbformat_minor": 2
}
